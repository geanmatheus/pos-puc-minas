{
  "nbformat": 4,
  "nbformat_minor": 0,
  "metadata": {
    "colab": {
      "provenance": [],
      "include_colab_link": true
    },
    "kernelspec": {
      "name": "python3",
      "display_name": "Python 3"
    },
    "language_info": {
      "name": "python"
    }
  },
  "cells": [
    {
      "cell_type": "markdown",
      "metadata": {
        "id": "view-in-github",
        "colab_type": "text"
      },
      "source": [
        "<a href=\"https://colab.research.google.com/github/geanmatheus/pos-puc-minas/blob/main/Raspagem_Noticias.ipynb\" target=\"_parent\"><img src=\"https://colab.research.google.com/assets/colab-badge.svg\" alt=\"Open In Colab\"/></a>"
      ]
    },
    {
      "cell_type": "code",
      "execution_count": null,
      "metadata": {
        "id": "zWu6GnOfExvg"
      },
      "outputs": [],
      "source": [
        "import requests\n",
        "from bs4 import BeautifulSoup\n",
        "import pandas as pd\n",
        "\n",
        "lista_noticias = []\n",
        "for index in range(1,300):\n",
        "  response = requests.get(f'https://g1.globo.com/index/feed/pagina-{index}.ghtml')\n",
        "\n",
        "  content = response.content\n",
        "\n",
        "  site = BeautifulSoup(content, 'html.parser')\n",
        "\n",
        "  # HTML da notícia\n",
        "  noticias = site.findAll('div', attrs={'class': 'feed-post-body'})\n",
        "\n",
        "  for noticia in noticias:\n",
        "    # Título\n",
        "    titulo = noticia.find('a', attrs={'class': 'feed-post-link'})\n",
        "\n",
        "    # print(titulo.text)\n",
        "    # print(titulo['href']) # link da notícia\n",
        "\n",
        "    # Subtítulo: div class=\"feed-post-body-resumo\"\n",
        "    subtitulo = noticia.find('div', attrs={'class': 'feed-post-body-resumo'})\n",
        "\n",
        "    if (subtitulo):\n",
        "      # print(subtitulo.text)\n",
        "      lista_noticias.append([titulo.text, subtitulo.text, titulo['href']])\n",
        "    else:\n",
        "      lista_noticias.append([titulo.text, '', titulo['href']])\n",
        "\n",
        "\n",
        "news = pd.DataFrame(lista_noticias, columns=['Título', 'Subtítulo', 'Link'])\n",
        "\n",
        "\n"
      ]
    },
    {
      "cell_type": "code",
      "source": [
        "news.shape"
      ],
      "metadata": {
        "colab": {
          "base_uri": "https://localhost:8080/"
        },
        "id": "OxqkDUhhbFMo",
        "outputId": "b7b1673b-0930-4ec7-be40-a966393e93d6"
      },
      "execution_count": null,
      "outputs": [
        {
          "output_type": "execute_result",
          "data": {
            "text/plain": [
              "(2095, 3)"
            ]
          },
          "metadata": {},
          "execution_count": 20
        }
      ]
    },
    {
      "cell_type": "code",
      "source": [
        "news.to_csv('News.csv',index=False, encoding = 'utf-8')"
      ],
      "metadata": {
        "id": "HmPE8wNVQfL7"
      },
      "execution_count": null,
      "outputs": []
    },
    {
      "cell_type": "code",
      "source": [
        "news.Link.unique()"
      ],
      "metadata": {
        "colab": {
          "base_uri": "https://localhost:8080/"
        },
        "id": "7HVph-Mxf-5n",
        "outputId": "9b09a729-d31d-47b2-de8e-77d1a312532d"
      },
      "execution_count": null,
      "outputs": [
        {
          "output_type": "execute_result",
          "data": {
            "text/plain": [
              "array(['https://g1.globo.com/politica/noticia/2023/05/16/deltan-dallagnol-politicos-repercutem-decisao-do-tse-que-cassou-mandato-do-deputado.ghtml',\n",
              "       'https://g1.globo.com/economia/noticia/2023/05/16/nova-regra-fiscal-o-que-acontece-com-o-bolsa-familia-e-o-salario-minimo-se-o-governo-nao-cumprir-a-meta.ghtml',\n",
              "       'https://g1.globo.com/politica/noticia/2023/05/16/veja-principais-pontos-do-depoimento-de-bolsonaro-a-policia-federal.ghtml',\n",
              "       ...,\n",
              "       'https://g1.globo.com/rj/rio-de-janeiro/videos-rj2/playlist/videos-rj2-de-sabado-22-de-abril-de-2023.ghtml',\n",
              "       'https://g1.globo.com/sp/sao-paulo/videos-sp2/playlist/videos-sp2-de-sabado-22-de-abril-de-2023.ghtml',\n",
              "       'https://g1.globo.com/sp/sao-paulo/videos-sp1/playlist/videos-sp1-de-sabado-22-de-abril-de-2023.ghtml'],\n",
              "      dtype=object)"
            ]
          },
          "metadata": {},
          "execution_count": 28
        }
      ]
    },
    {
      "cell_type": "code",
      "source": [
        "def match_class(target):\n",
        "    def do_match(tag):\n",
        "        classes = tag.get('class', [])\n",
        "        return all(c in classes for c in target)\n",
        "    return do_match\n",
        "def get_text_url(url):\n",
        "    res = requests.get(url)\n",
        "    html = res.text\n",
        "    soup = BeautifulSoup(html, 'html5lib')\n",
        "    #remove marcações de scripts e style\n",
        "    texto = soup.find_all(match_class([\"content-text__container\"]))\n",
        "    all_text = \"\"\n",
        "    for t in texto:\n",
        "        all_text += t.get_text()\n",
        "    return all_text\n",
        "\n",
        "\n",
        "Listas = []\n",
        "for lin in news.Link.unique():\n",
        "  url = lin\n",
        "  get1 =  get_text_url(url)\n",
        "  Listas.append([lin, get1])\n",
        "\n",
        "\n",
        "NewsGerais = pd.DataFrame(Listas, columns=['Link', 'Descricao'])"
      ],
      "metadata": {
        "id": "112pHC86Qfaa"
      },
      "execution_count": null,
      "outputs": []
    },
    {
      "cell_type": "code",
      "source": [
        "NewsGerais.to_excel('NewsGerais.xlsx', index=False)"
      ],
      "metadata": {
        "id": "g9qaYHMgFUtg"
      },
      "execution_count": null,
      "outputs": []
    },
    {
      "cell_type": "code",
      "source": [],
      "metadata": {
        "colab": {
          "base_uri": "https://localhost:8080/",
          "height": 423
        },
        "id": "SLWrkLQAJ49U",
        "outputId": "16b1e0da-edce-4512-f881-2a72d8d5c4f1"
      },
      "execution_count": null,
      "outputs": [
        {
          "output_type": "execute_result",
          "data": {
            "text/plain": [
              "                                               Título  \\\n",
              "0   O que acontece no Bolsa Família e no mínimo co...   \n",
              "1   Vacinação fake, papel de Cid, tentativa de gol...   \n",
              "2   CAMAROTTI: Depoimento não ajuda Bolsonaro e co...   \n",
              "3   Senado exclui de MP trecho que enfraquecia pro...   \n",
              "4   STF extingue penas de prisão de Maluf após ind...   \n",
              "..                                                ...   \n",
              "60  \\nNúmero de penas de morte cresceu no mundo em...   \n",
              "61  Jurados de Cannes declaram apoio à greve de ro...   \n",
              "62  Sylvester Stallone, esposa e as três filhas es...   \n",
              "63  Mulher morta há duas semanas vence eleição na ...   \n",
              "64  Cláudio Castro nomeia novo secretário de Plane...   \n",
              "\n",
              "                                            Subtítulo  \\\n",
              "0                                                       \n",
              "1                                                       \n",
              "2                                                       \n",
              "3   Especialistas apontavam que brecha na medida f...   \n",
              "4                                                       \n",
              "..                                                ...   \n",
              "60  Anistia Internacional registra pelo menos 883 ...   \n",
              "61  Presidente do júri, Ruben Östlund, e Paul Dano...   \n",
              "62  Eles seguem os passos de outras celebridades, ...   \n",
              "63  A candidata, que tinha 30 anos e disputava ele...   \n",
              "64  Adilson Faria é graduado em direito, pós-gradu...   \n",
              "\n",
              "                                                 Link  \n",
              "0   https://g1.globo.com/economia/noticia/2023/05/...  \n",
              "1   https://g1.globo.com/politica/noticia/2023/05/...  \n",
              "2   https://g1.globo.com/politica/blog/gerson-cama...  \n",
              "3   https://g1.globo.com/politica/noticia/2023/05/...  \n",
              "4   https://g1.globo.com/politica/noticia/2023/05/...  \n",
              "..                                                ...  \n",
              "60  https://g1.globo.com/mundo/noticia/2023/05/16/...  \n",
              "61  https://g1.globo.com/pop-arte/cinema/noticia/2...  \n",
              "62  https://g1.globo.com/pop-arte/tv-e-series/noti...  \n",
              "63  https://g1.globo.com/mundo/noticia/2023/05/16/...  \n",
              "64  https://g1.globo.com/rj/rio-de-janeiro/noticia...  \n",
              "\n",
              "[65 rows x 3 columns]"
            ],
            "text/html": [
              "\n",
              "  <div id=\"df-072a57b4-0046-44c3-856b-efe2eab05dfb\">\n",
              "    <div class=\"colab-df-container\">\n",
              "      <div>\n",
              "<style scoped>\n",
              "    .dataframe tbody tr th:only-of-type {\n",
              "        vertical-align: middle;\n",
              "    }\n",
              "\n",
              "    .dataframe tbody tr th {\n",
              "        vertical-align: top;\n",
              "    }\n",
              "\n",
              "    .dataframe thead th {\n",
              "        text-align: right;\n",
              "    }\n",
              "</style>\n",
              "<table border=\"1\" class=\"dataframe\">\n",
              "  <thead>\n",
              "    <tr style=\"text-align: right;\">\n",
              "      <th></th>\n",
              "      <th>Título</th>\n",
              "      <th>Subtítulo</th>\n",
              "      <th>Link</th>\n",
              "    </tr>\n",
              "  </thead>\n",
              "  <tbody>\n",
              "    <tr>\n",
              "      <th>0</th>\n",
              "      <td>O que acontece no Bolsa Família e no mínimo co...</td>\n",
              "      <td></td>\n",
              "      <td>https://g1.globo.com/economia/noticia/2023/05/...</td>\n",
              "    </tr>\n",
              "    <tr>\n",
              "      <th>1</th>\n",
              "      <td>Vacinação fake, papel de Cid, tentativa de gol...</td>\n",
              "      <td></td>\n",
              "      <td>https://g1.globo.com/politica/noticia/2023/05/...</td>\n",
              "    </tr>\n",
              "    <tr>\n",
              "      <th>2</th>\n",
              "      <td>CAMAROTTI: Depoimento não ajuda Bolsonaro e co...</td>\n",
              "      <td></td>\n",
              "      <td>https://g1.globo.com/politica/blog/gerson-cama...</td>\n",
              "    </tr>\n",
              "    <tr>\n",
              "      <th>3</th>\n",
              "      <td>Senado exclui de MP trecho que enfraquecia pro...</td>\n",
              "      <td>Especialistas apontavam que brecha na medida f...</td>\n",
              "      <td>https://g1.globo.com/politica/noticia/2023/05/...</td>\n",
              "    </tr>\n",
              "    <tr>\n",
              "      <th>4</th>\n",
              "      <td>STF extingue penas de prisão de Maluf após ind...</td>\n",
              "      <td></td>\n",
              "      <td>https://g1.globo.com/politica/noticia/2023/05/...</td>\n",
              "    </tr>\n",
              "    <tr>\n",
              "      <th>...</th>\n",
              "      <td>...</td>\n",
              "      <td>...</td>\n",
              "      <td>...</td>\n",
              "    </tr>\n",
              "    <tr>\n",
              "      <th>60</th>\n",
              "      <td>\\nNúmero de penas de morte cresceu no mundo em...</td>\n",
              "      <td>Anistia Internacional registra pelo menos 883 ...</td>\n",
              "      <td>https://g1.globo.com/mundo/noticia/2023/05/16/...</td>\n",
              "    </tr>\n",
              "    <tr>\n",
              "      <th>61</th>\n",
              "      <td>Jurados de Cannes declaram apoio à greve de ro...</td>\n",
              "      <td>Presidente do júri, Ruben Östlund, e Paul Dano...</td>\n",
              "      <td>https://g1.globo.com/pop-arte/cinema/noticia/2...</td>\n",
              "    </tr>\n",
              "    <tr>\n",
              "      <th>62</th>\n",
              "      <td>Sylvester Stallone, esposa e as três filhas es...</td>\n",
              "      <td>Eles seguem os passos de outras celebridades, ...</td>\n",
              "      <td>https://g1.globo.com/pop-arte/tv-e-series/noti...</td>\n",
              "    </tr>\n",
              "    <tr>\n",
              "      <th>63</th>\n",
              "      <td>Mulher morta há duas semanas vence eleição na ...</td>\n",
              "      <td>A candidata, que tinha 30 anos e disputava ele...</td>\n",
              "      <td>https://g1.globo.com/mundo/noticia/2023/05/16/...</td>\n",
              "    </tr>\n",
              "    <tr>\n",
              "      <th>64</th>\n",
              "      <td>Cláudio Castro nomeia novo secretário de Plane...</td>\n",
              "      <td>Adilson Faria é graduado em direito, pós-gradu...</td>\n",
              "      <td>https://g1.globo.com/rj/rio-de-janeiro/noticia...</td>\n",
              "    </tr>\n",
              "  </tbody>\n",
              "</table>\n",
              "<p>65 rows × 3 columns</p>\n",
              "</div>\n",
              "      <button class=\"colab-df-convert\" onclick=\"convertToInteractive('df-072a57b4-0046-44c3-856b-efe2eab05dfb')\"\n",
              "              title=\"Convert this dataframe to an interactive table.\"\n",
              "              style=\"display:none;\">\n",
              "        \n",
              "  <svg xmlns=\"http://www.w3.org/2000/svg\" height=\"24px\"viewBox=\"0 0 24 24\"\n",
              "       width=\"24px\">\n",
              "    <path d=\"M0 0h24v24H0V0z\" fill=\"none\"/>\n",
              "    <path d=\"M18.56 5.44l.94 2.06.94-2.06 2.06-.94-2.06-.94-.94-2.06-.94 2.06-2.06.94zm-11 1L8.5 8.5l.94-2.06 2.06-.94-2.06-.94L8.5 2.5l-.94 2.06-2.06.94zm10 10l.94 2.06.94-2.06 2.06-.94-2.06-.94-.94-2.06-.94 2.06-2.06.94z\"/><path d=\"M17.41 7.96l-1.37-1.37c-.4-.4-.92-.59-1.43-.59-.52 0-1.04.2-1.43.59L10.3 9.45l-7.72 7.72c-.78.78-.78 2.05 0 2.83L4 21.41c.39.39.9.59 1.41.59.51 0 1.02-.2 1.41-.59l7.78-7.78 2.81-2.81c.8-.78.8-2.07 0-2.86zM5.41 20L4 18.59l7.72-7.72 1.47 1.35L5.41 20z\"/>\n",
              "  </svg>\n",
              "      </button>\n",
              "      \n",
              "  <style>\n",
              "    .colab-df-container {\n",
              "      display:flex;\n",
              "      flex-wrap:wrap;\n",
              "      gap: 12px;\n",
              "    }\n",
              "\n",
              "    .colab-df-convert {\n",
              "      background-color: #E8F0FE;\n",
              "      border: none;\n",
              "      border-radius: 50%;\n",
              "      cursor: pointer;\n",
              "      display: none;\n",
              "      fill: #1967D2;\n",
              "      height: 32px;\n",
              "      padding: 0 0 0 0;\n",
              "      width: 32px;\n",
              "    }\n",
              "\n",
              "    .colab-df-convert:hover {\n",
              "      background-color: #E2EBFA;\n",
              "      box-shadow: 0px 1px 2px rgba(60, 64, 67, 0.3), 0px 1px 3px 1px rgba(60, 64, 67, 0.15);\n",
              "      fill: #174EA6;\n",
              "    }\n",
              "\n",
              "    [theme=dark] .colab-df-convert {\n",
              "      background-color: #3B4455;\n",
              "      fill: #D2E3FC;\n",
              "    }\n",
              "\n",
              "    [theme=dark] .colab-df-convert:hover {\n",
              "      background-color: #434B5C;\n",
              "      box-shadow: 0px 1px 3px 1px rgba(0, 0, 0, 0.15);\n",
              "      filter: drop-shadow(0px 1px 2px rgba(0, 0, 0, 0.3));\n",
              "      fill: #FFFFFF;\n",
              "    }\n",
              "  </style>\n",
              "\n",
              "      <script>\n",
              "        const buttonEl =\n",
              "          document.querySelector('#df-072a57b4-0046-44c3-856b-efe2eab05dfb button.colab-df-convert');\n",
              "        buttonEl.style.display =\n",
              "          google.colab.kernel.accessAllowed ? 'block' : 'none';\n",
              "\n",
              "        async function convertToInteractive(key) {\n",
              "          const element = document.querySelector('#df-072a57b4-0046-44c3-856b-efe2eab05dfb');\n",
              "          const dataTable =\n",
              "            await google.colab.kernel.invokeFunction('convertToInteractive',\n",
              "                                                     [key], {});\n",
              "          if (!dataTable) return;\n",
              "\n",
              "          const docLinkHtml = 'Like what you see? Visit the ' +\n",
              "            '<a target=\"_blank\" href=https://colab.research.google.com/notebooks/data_table.ipynb>data table notebook</a>'\n",
              "            + ' to learn more about interactive tables.';\n",
              "          element.innerHTML = '';\n",
              "          dataTable['output_type'] = 'display_data';\n",
              "          await google.colab.output.renderOutput(dataTable, element);\n",
              "          const docLink = document.createElement('div');\n",
              "          docLink.innerHTML = docLinkHtml;\n",
              "          element.appendChild(docLink);\n",
              "        }\n",
              "      </script>\n",
              "    </div>\n",
              "  </div>\n",
              "  "
            ]
          },
          "metadata": {},
          "execution_count": 13
        }
      ]
    }
  ]
}